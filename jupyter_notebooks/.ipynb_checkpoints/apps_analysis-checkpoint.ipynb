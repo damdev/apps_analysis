{
 "cells": [
  {
   "cell_type": "code",
   "execution_count": 1,
   "id": "f37590a3-09cc-4455-b178-03c023ff65fc",
   "metadata": {
    "tags": []
   },
   "outputs": [
    {
     "name": "stderr",
     "output_type": "stream",
     "text": [
      "/usr/local/spark/python/pyspark/sql/context.py:112: FutureWarning: Deprecated in 3.0.0. Use SparkSession.builder.getOrCreate() instead.\n",
      "  warnings.warn(\n"
     ]
    }
   ],
   "source": [
    "from pyspark.sql import SQLContext, SparkSession\n",
    "from pyspark.sql.functions import col, udf\n",
    "from pyspark.sql.types import *\n",
    "from pyspark import SparkContext\n",
    "from matplotlib import pyplot \n",
    "\n",
    "sc = SparkSession.builder.getOrCreate()\n",
    "sqlContext = SQLContext(sc)\n",
    "\n",
    "class GoogleNormalizer:\n",
    "    categories_map = {\n",
    "        'Game': ['Action', 'Adventure', 'Arcade', 'Board', 'Card', 'Casino', 'Casual', 'Educational', 'Music', 'Puzzle', 'Racing', 'Role Playing', 'Simulation', 'Sports', 'Strategy', 'Trivia', 'Word'],\n",
    "        'Music': ['Music & Audio'],\n",
    "        'Health': ['Health & Fitness']\n",
    "    }\n",
    "    categories_inverted_map = dict((i, key) for key, values in categories_map.items() for i in values)\n",
    "    \n",
    "    @staticmethod\n",
    "    def convert_size_to_bytes(raw_size):\n",
    "        multipliers = {\n",
    "            'k': 1024,\n",
    "            'm': 1024*1024,\n",
    "            'g': 1024*1024*1024,\n",
    "        }\n",
    "        if raw_size:\n",
    "            size = raw_size.replace(',', '')\n",
    "            for suffix in multipliers:\n",
    "                if size.lower().endswith(suffix):\n",
    "                    return int(float(size[0:-len(suffix)]) * multipliers[suffix])\n",
    "            else:\n",
    "                if size.lower().endswith('b'):\n",
    "                    return int(size[0:-1])\n",
    "                else:\n",
    "                    try:\n",
    "                        return int(size)\n",
    "                    except ValueError: # for example \"1024x\"\n",
    "                        return None\n",
    "        else:\n",
    "            return None\n",
    "\n",
    "    @staticmethod \n",
    "    def normalize_size(size):\n",
    "        result = GoogleNormalizer.convert_size_to_bytes(size)\n",
    "        if result == 0:\n",
    "            return None\n",
    "        else:\n",
    "            return result\n",
    "\n",
    "    @staticmethod\n",
    "    def normalize_google_category(cat):\n",
    "        return GoogleNormalizer.categories_inverted_map.get(cat)\n",
    "    \n",
    "    @staticmethod\n",
    "    def normalize(raw_google_df):\n",
    "        normalize_size_udf = udf(lambda z: GoogleNormalizer.normalize_size(z))\n",
    "        normalize_google_category_udf = udf(lambda z: GoogleNormalizer.normalize_google_category(z))\n",
    "        google_df = raw_google_df \\\n",
    "            .withColumn('normalized_size', normalize_size_udf(col('Size')).cast(IntegerType())) \\\n",
    "            .withColumn('normalized_category', normalize_google_category_udf(col('Category'))) \\\n",
    "            .withColumn('avg_rating', col('Rating').cast(FloatType())) \\\n",
    "            .withColumn('rating_count', col('Rating Count').cast(IntegerType())) \\\n",
    "            .withColumn('Released', col('Released').cast(DateType())) \\\n",
    "            .withColumn('App_Name', col('App Name').cast(DateType())) \\\n",
    "            .withColumn('App_Id', col('App Id').cast(DateType()))\n",
    "        return google_df\n",
    "    \n",
    "class AppleNormalizer:\n",
    "    categories_map = {\n",
    "        'Game': ['Games'],\n",
    "        'Music': ['Music'],\n",
    "        'Health': ['Health & Fitness'],\n",
    "    }\n",
    "    categories_inverted_map = dict((i, key) for key, values in categories_map.items() for i in values)\n",
    "\n",
    "    @staticmethod\n",
    "    def normalize_apple_category(cat):\n",
    "        return AppleNormalizer.categories_inverted_map.get(cat)\n",
    "\n",
    "    @staticmethod\n",
    "    def normalize(raw_apple_df):\n",
    "        normalize_size_udf = udf(lambda z: GoogleNormalizer.normalize_size(z))\n",
    "        normalize_apple_category_udf = udf(lambda z: AppleNormalizer.normalize_apple_category(z))\n",
    "        apple_df = raw_apple_df \\\n",
    "            .withColumn('normalized_size', normalize_size_udf(col('Size_Bytes')).cast(IntegerType())) \\\n",
    "            .withColumn('normalized_category', normalize_apple_category_udf(col('Primary_Genre'))) \\\n",
    "            .withColumn('avg_rating', col('Average_User_Rating').cast(FloatType())) \\\n",
    "            .withColumn('rating_count', col('Reviews').cast(IntegerType())) \\\n",
    "            .withColumn('Released', col('Released').cast(DateType()))\n",
    "        return apple_df\n",
    "\n",
    "raw_apple_df = sqlContext.read.format('csv').load('/data/appleAppData.csv', header='true', infer_schema='true')\n",
    "AppleNormalizer.normalize(raw_apple_df).createOrReplaceTempView(\"apple_apps\")\n",
    "\n",
    "raw_google_df = sqlContext.read.format('csv').load('/data/Google-Playstore.csv', header='true', infer_schema='true')\n",
    "GoogleNormalizer.normalize(raw_google_df).createOrReplaceTempView(\"google_apps\")\n",
    "\n",
    "categories = ['Game', 'Music', 'Health']\n"
   ]
  },
  {
   "cell_type": "code",
   "execution_count": 2,
   "id": "1258bd12-ddd3-4a34-a6d4-dd1b9120f2d4",
   "metadata": {
    "tags": []
   },
   "outputs": [
    {
     "data": {
      "text/plain": [
       "<matplotlib.legend.Legend at 0xffff948fa830>"
      ]
     },
     "execution_count": 2,
     "metadata": {},
     "output_type": "execute_result"
    },
    {
     "data": {
      "image/png": "[encoded data removed]",
      "text/plain": [
       "<Figure size 640x480 with 1 Axes>"
      ]
     },
     "metadata": {},
     "output_type": "display_data"
    }
   ],
   "source": [
    "# Draw histo for size by category\n",
    "\n",
    "size_and_categories_df = sqlContext.sql(\"select normalized_size as size, normalized_category as category from google_apps\") \\\n",
    "  .union(sqlContext.sql(\"select normalized_size as size, normalized_category as category from apple_apps\"))\n",
    "\n",
    "size_and_categories_df.createOrReplaceTempView(\"size_and_categories\")\n",
    "\n",
    "size_and_cat_histo = sqlContext.sql(\"select size, category from size_and_categories where category is not null and size is not null\")\n",
    "\n",
    "pyplot.hist([\n",
    "    [r['size'] for r in size_and_cat_histo.filter(col('category') == cat).select('size').collect()] for cat in categories\n",
    "], 30, label=categories, log=True)\n",
    "pyplot.legend()\n",
    "\n",
    "# end: Draw histo"
   ]
  },
  {
   "cell_type": "code",
   "execution_count": 3,
   "id": "cf859bc4-5644-4cc8-a0f2-5df23eda71d3",
   "metadata": {
    "tags": []
   },
   "outputs": [
    {
     "name": "stdout",
     "output_type": "stream",
     "text": [
      "+--------+------------------------------------------------------+\n",
      "|category|(sum((avg_rating * rating_count)) / sum(rating_count))|\n",
      "+--------+------------------------------------------------------+\n",
      "|    null|                                     4.272523685668851|\n",
      "|  Health|                                    4.5517499792169644|\n",
      "|   Music|                                     4.466540930823335|\n",
      "|    Game|                                     4.308294840755608|\n",
      "+--------+------------------------------------------------------+\n",
      "\n"
     ]
    }
   ],
   "source": [
    "# Rating average\n",
    "\n",
    "reviews_df = sqlContext.sql(\"select avg_rating, rating_count, normalized_category as category from google_apps\") \\\n",
    "  .union(sqlContext.sql(\"select avg_rating, rating_count, normalized_category as category from apple_apps\"))\n",
    "reviews_df.createOrReplaceTempView('reviews')\n",
    "\n",
    "sqlContext.sql(\"select category, sum(avg_rating * rating_count)/sum(rating_count) from reviews group by category\").show()\n",
    "\n",
    "# end: Rating average"
   ]
  },
  {
   "cell_type": "code",
   "execution_count": 4,
   "id": "07dedd4f-e8a3-4598-a193-a7cbe9123e42",
   "metadata": {
    "tags": []
   },
   "outputs": [
    {
     "data": {
      "text/plain": [
       "<matplotlib.legend.Legend at 0xffff76199ba0>"
      ]
     },
     "execution_count": 4,
     "metadata": {},
     "output_type": "execute_result"
    },
    {
     "data": {
      "image/png": "[encoded data removed]",
      "text/plain": [
       "<Figure size 640x480 with 1 Axes>"
      ]
     },
     "metadata": {},
     "output_type": "display_data"
    }
   ],
   "source": [
    "# New releases by month\n",
    "\n",
    "released_df = sqlContext.sql(\"select normalized_category as category, Released from google_apps\") \\\n",
    "  .union(sqlContext.sql(\"select normalized_category as category, Released from apple_apps\"))\n",
    "released_df.createOrReplaceTempView('released')\n",
    "\n",
    "released_by_category_df = sqlContext.sql(\"select category, MONTH(Released) as month from released where category is not null and Released is not null\")\n",
    "\n",
    "pyplot.hist([\n",
    "    [r['month'] for r in released_by_category_df.filter(col('category') == cat).select('month').collect()] for cat in categories\n",
    "], 12, label=categories)\n",
    "pyplot.legend()\n",
    "\n",
    "# end: New releases by month"
   ]
  },
  {
   "cell_type": "code",
   "execution_count": 5,
   "id": "01d5e82c-e269-46de-ac13-d3d548d28ee2",
   "metadata": {
    "tags": []
   },
   "outputs": [
    {
     "name": "stdout",
     "output_type": "stream",
     "text": [
      "+--------+----+----------+---------------------------+\n",
      "|category|year|      size|                   App_Name|\n",
      "+--------+----+----------+---------------------------+\n",
      "|    Game|2008| 265725952|                      QBeez|\n",
      "|    Game|2008| 220716032|                    PAC-MAN|\n",
      "|    Game|2008| 210667170|                      Kroll|\n",
      "|    Game|2008| 180433920|        Solitaire Classic ©|\n",
      "|    Game|2008| 157377536|       Soccer Physics - ...|\n",
      "|    Game|2008| 124535808|                Checkers ・|\n",
      "|    Game|2008| 120542208|       Backgammon - Clas...|\n",
      "|    Game|2008| 103674880|            Crazy Snowboard|\n",
      "|    Game|2008|  99156992|           Deep Green Chess|\n",
      "|    Game|2008|  98445312|           Iron Fist Boxing|\n",
      "|    Game|2009|1516404736|       GUN CLUB 2 - Best...|\n",
      "|    Game|2009| 887685120|              Catan Classic|\n",
      "|    Game|2009| 700382208|       Sally's Spa: Face...|\n",
      "|    Game|2009| 682953728|              Myst Français|\n",
      "|    Game|2009| 681036800|               Myst Deutsch|\n",
      "|    Game|2009| 616578048|       Myst Mobile (Legacy)|\n",
      "|    Game|2009| 609634304|                 Myst Japan|\n",
      "|    Game|2009| 594161664|       Urban Rivals - St...|\n",
      "|    Game|2009| 498115584|                Sally's Spa|\n",
      "|    Game|2009| 397447168|                       DOOM|\n",
      "|    Game|2010|2075407360|           Dragon's Lair HD|\n",
      "|    Game|2010|1956236288|            Smurfs' Village|\n",
      "|    Game|2010|1742644224|       Memories Off 6 ~T...|\n",
      "|    Game|2010|1704733696|            CHAOS;HEAD NOAH|\n",
      "|    Game|2010|1608985600|         CHAOS;HEAD NOAH HD|\n",
      "|    Game|2010|1179184128|       Drift Mania Champ...|\n",
      "|    Game|2010|1173899264|       Riven (iPhone ver...|\n",
      "|    Game|2010|1097157242|       Nancy Drew - Shad...|\n",
      "|    Game|2010| 932982784|          Mahjong Deluxe Go|\n",
      "|    Game|2010| 879475712|        GTA: Chinatown Wars|\n",
      "|    Game|2011|2120322043|       Nostradamus: The ...|\n",
      "|    Game|2011|2072933376|       Celtic Heroes 3D MMO|\n",
      "|    Game|2011|1951319040|       Order & Chaos Online|\n",
      "|    Game|2011|1834297981|       Nancy Drew - The ...|\n",
      "|    Game|2011|1758071917|       Cleopatra: a Quee...|\n",
      "|    Game|2011|1743281152|                 Real Steel|\n",
      "|    Game|2011|1740831744|       Memories Off 6 ~T...|\n",
      "|    Game|2011|1649085856|       Destination: Trea...|\n",
      "|    Game|2011|1552600064|                STEINS;GATE|\n",
      "|    Game|2011|1531431936|           Conquer Online Ⅱ|\n",
      "|    Game|2012|1901390461|        Atlantis: Evolution|\n",
      "|    Game|2012|1865522176|       Memories Off -Yub...|\n",
      "|    Game|2012|1828407296|           Max Payne Mobile|\n",
      "|    Game|2012|1761995393|       Combat Mission Ba...|\n",
      "|    Game|2012|1714595840|       Edna & Harvey: Th...|\n",
      "|    Game|2012|1688952832|       Heroes of Order &...|\n",
      "|    Game|2012|1588910716|       Louvre The Messenger|\n",
      "|    Game|2012|1571820544|                  Yesterday|\n",
      "|    Game|2012|1548608512|    STEINS;GATE KR (한국어)|\n",
      "|    Game|2012|1548246016|       Corpse party Bloo...|\n",
      "|    Game|2013|2113238016|            Runaway 3 Vol 2|\n",
      "|    Game|2013|2075376640|       Dragon's Lair 30t...|\n",
      "|    Game|2013|2057962496|       Drift Mania Stree...|\n",
      "|    Game|2013|2057872384|       Drift Mania - Str...|\n",
      "|    Game|2013|2031078400|       Riven (iPad version)|\n",
      "|    Game|2013|1923522560|       Dracula 4: The Sh...|\n",
      "|    Game|2013|1795844096|  STEINS;GATE 比翼恋理の...|\n",
      "|    Game|2013|1644059648|       Atlantis 4: Evolu...|\n",
      "|    Game|2013|1609861120|               GT. Racing 2|\n",
      "|    Game|2013|1598493696|        Cognition Episode 2|\n",
      "|    Game|2014|2129403904|              Robin's Quest|\n",
      "|    Game|2014|2046365696|       Evolution: Battle...|\n",
      "|    Game|2014|2031302656|                Banner Saga|\n",
      "|    Game|2014|1949465600|       Kritika: The Whit...|\n",
      "|    Game|2014|1830595584|       League of Light: ...|\n",
      "|    Game|2014|1825209344|       League of Light: ...|\n",
      "|    Game|2014|1772042874|                    Syberia|\n",
      "|    Game|2014|1734198272|       Flight World Simu...|\n",
      "|    Game|2014|1726928896|STEINS;GATE 비익연리의 달링|\n",
      "|    Game|2014|1718235136|            Modern Combat 5|\n",
      "|    Game|2015|2111931392|       Nitro Nation Drag...|\n",
      "|    Game|2015|2102110208|        Gunship Sequel: WW2|\n",
      "|    Game|2015|2092178432|              Demolition 3D|\n",
      "|    Game|2015|2042866688|       GTA: Liberty City...|\n",
      "|    Game|2015|2010729081|       Nancy Drew - Sea ...|\n",
      "|    Game|2015|1941982208|                Jockey Rush|\n",
      "|    Game|2015|1909625856|       Dark Romance: Hea...|\n",
      "|    Game|2015|1893607424|       Brothers: A Tale ...|\n",
      "|    Game|2015|1883504640|                  Her Story|\n",
      "|    Game|2015|1861787648|       Mayan Prophecies:...|\n",
      "|    Game|2016|2146585205|                Train Fever|\n",
      "|    Game|2016|2116422656|       Witches' Legacy: ...|\n",
      "|    Game|2016|2084125696|                Post Brutal|\n",
      "|    Game|2016|2055160832|               Red Comrades|\n",
      "|    Game|2016|2035960423|                    Shadwen|\n",
      "|    Game|2016|2034151424|       Fear for Sale: Ci...|\n",
      "|    Game|2016|2034151424|       Fear for Sale: Ci...|\n",
      "|    Game|2016|2025351168|          Summer Food Stall|\n",
      "|    Game|2016|1990461440|       Counter Attack Mu...|\n",
      "|    Game|2016|1968503412|        Emily Wants To Play|\n",
      "|    Game|2016|1964516352|         Ire - Blood Memory|\n",
      "|    Game|2017|2140461660|                Executioner|\n",
      "|    Game|2017|2099432448|       Post Apocalyptic ...|\n",
      "|    Game|2017|2043062272|       Afterpulse - Elit...|\n",
      "|    Game|2017|2038204416|       Queen Endgame for...|\n",
      "|    Game|2017|2010303488|           Sword of Shadows|\n",
      "|    Game|2017|2003083264|       Garena Free Fire ...|\n",
      "|    Game|2017|1989969920|          Yesterday Origins|\n",
      "|    Game|2017|1975787520|       World War Heroes:...|\n",
      "|    Game|2017|1969024000|       Batman: The Enemy...|\n",
      "+--------+----+----------+---------------------------+\n",
      "only showing top 100 rows\n",
      "\n"
     ]
    }
   ],
   "source": [
    "# Top ten by size by category and year\n",
    "\n",
    "released_by_size_df = sqlContext.sql(\"select App_Name, normalized_category as category, normalized_size as size, YEAR(Released) as year from google_apps\") \\\n",
    "  .union(sqlContext.sql(\"select App_Name, normalized_category as category, normalized_size as size, YEAR(Released) as year from apple_apps\"))\n",
    "released_by_size_df.createOrReplaceTempView('released_by_size')\n",
    "\n",
    "sqlContext.sql(\"\"\"SELECT category, year, size, App_Name FROM \n",
    "   (SELECT App_Name, category, year as year, size, dense_rank() \n",
    "         OVER (PARTITION BY category, year ORDER BY size DESC) as rank \n",
    "    FROM released_by_size where category is not null and year is not null) tmp  \n",
    "WHERE rank <= 10 order by 1, 2\"\"\").show(100)\n",
    "\n",
    "# end: # Top ten by size by category and year"
   ]
  }
 ],
 "metadata": {
  "kernelspec": {
   "display_name": "Python 3 (ipykernel)",
   "language": "python",
   "name": "python3"
  },
  "language_info": {
   "codemirror_mode": {
    "name": "ipython",
    "version": 3
   },
   "file_extension": ".py",
   "mimetype": "text/x-python",
   "name": "python",
   "nbconvert_exporter": "python",
   "pygments_lexer": "ipython3",
   "version": "3.10.11"
  }
 },
 "nbformat": 4,
 "nbformat_minor": 5
}
