{
 "cells": [
  {
   "cell_type": "code",
   "execution_count": 1,
   "id": "f37590a3-09cc-4455-b178-03c023ff65fc",
   "metadata": {
    "tags": []
   },
   "outputs": [
    {
     "name": "stderr",
     "output_type": "stream",
     "text": [
      "/usr/local/spark/python/pyspark/sql/context.py:112: FutureWarning: Deprecated in 3.0.0. Use SparkSession.builder.getOrCreate() instead.\n",
      "  warnings.warn(\n"
     ]
    }
   ],
   "source": [
    "from pyspark.sql import SQLContext, SparkSession\n",
    "from pyspark.sql.functions import col, udf\n",
    "from pyspark.sql.types import *\n",
    "from pyspark import SparkContext\n",
    "from matplotlib import pyplot \n",
    "\n",
    "sample = True\n",
    "\n",
    "sc = SparkSession.builder.getOrCreate()\n",
    "sqlContext = SQLContext(sc)\n",
    "\n",
    "class GoogleNormalizer:\n",
    "    categories_map = {\n",
    "        'Game': ['Action', 'Adventure', 'Arcade', 'Board', 'Card', 'Casino', 'Casual', 'Educational', 'Music', 'Puzzle', 'Racing', 'Role Playing', 'Simulation', 'Sports', 'Strategy', 'Trivia', 'Word'],\n",
    "        'Music': ['Music & Audio'],\n",
    "        'Health': ['Health & Fitness']\n",
    "    }\n",
    "    categories_inverted_map = dict((i, key) for key, values in categories_map.items() for i in values)\n",
    "    \n",
    "    @staticmethod\n",
    "    def convert_size_to_bytes(raw_size):\n",
    "        multipliers = {\n",
    "            'k': 1024,\n",
    "            'm': 1024*1024,\n",
    "            'g': 1024*1024*1024,\n",
    "        }\n",
    "        if raw_size:\n",
    "            size = raw_size.replace(',', '')\n",
    "            for suffix in multipliers:\n",
    "                if size.lower().endswith(suffix):\n",
    "                    return int(float(size[0:-len(suffix)]) * multipliers[suffix])\n",
    "            else:\n",
    "                if size.lower().endswith('b'):\n",
    "                    return int(size[0:-1])\n",
    "                else:\n",
    "                    try:\n",
    "                        return int(size)\n",
    "                    except ValueError: # for example \"1024x\"\n",
    "                        return None\n",
    "        else:\n",
    "            return None\n",
    "\n",
    "    @staticmethod \n",
    "    def normalize_size(size):\n",
    "        result = GoogleNormalizer.convert_size_to_bytes(size)\n",
    "        if result == 0:\n",
    "            return None\n",
    "        else:\n",
    "            return result\n",
    "\n",
    "    @staticmethod\n",
    "    def normalize_google_category(cat):\n",
    "        return GoogleNormalizer.categories_inverted_map.get(cat)\n",
    "    \n",
    "    @staticmethod\n",
    "    def normalize(raw_google_df):\n",
    "        normalize_size_udf = udf(lambda z: GoogleNormalizer.normalize_size(z))\n",
    "        normalize_google_category_udf = udf(lambda z: GoogleNormalizer.normalize_google_category(z))\n",
    "        google_df = raw_google_df \\\n",
    "            .withColumn('normalized_size', normalize_size_udf(col('Size')).cast(IntegerType())) \\\n",
    "            .withColumn('normalized_category', normalize_google_category_udf(col('Category'))) \\\n",
    "            .withColumn('avg_rating', col('Rating').cast(FloatType())) \\\n",
    "            .withColumn('rating_count', col('Rating Count').cast(IntegerType())) \\\n",
    "            .withColumn('Released', col('Released').cast(DateType())) \\\n",
    "            .withColumn('App_Name', col('App Name').cast(DateType())) \\\n",
    "            .withColumn('App_Id', col('App Id').cast(DateType()))\n",
    "        return google_df\n",
    "    \n",
    "class AppleNormalizer:\n",
    "    categories_map = {\n",
    "        'Game': ['Games'],\n",
    "        'Music': ['Music'],\n",
    "        'Health': ['Health & Fitness'],\n",
    "    }\n",
    "    categories_inverted_map = dict((i, key) for key, values in categories_map.items() for i in values)\n",
    "\n",
    "    @staticmethod\n",
    "    def normalize_apple_category(cat):\n",
    "        return AppleNormalizer.categories_inverted_map.get(cat)\n",
    "\n",
    "    @staticmethod\n",
    "    def normalize(raw_apple_df):\n",
    "        normalize_size_udf = udf(lambda z: GoogleNormalizer.normalize_size(z))\n",
    "        normalize_apple_category_udf = udf(lambda z: AppleNormalizer.normalize_apple_category(z))\n",
    "        apple_df = raw_apple_df \\\n",
    "            .withColumn('normalized_size', normalize_size_udf(col('Size_Bytes')).cast(IntegerType())) \\\n",
    "            .withColumn('normalized_category', normalize_apple_category_udf(col('Primary_Genre'))) \\\n",
    "            .withColumn('avg_rating', col('Average_User_Rating').cast(FloatType())) \\\n",
    "            .withColumn('rating_count', col('Reviews').cast(IntegerType())) \\\n",
    "            .withColumn('Released', col('Released').cast(DateType()))\n",
    "        return apple_df\n",
    "\n",
    "raw_apple_df = sqlContext.read.format('csv').load(\"/data/appleAppData%s.csv\" % ('.sample' if sample else ''), header='true', infer_schema='true')\n",
    "AppleNormalizer.normalize(raw_apple_df).createOrReplaceTempView(\"apple_apps\")\n",
    "\n",
    "raw_google_df = sqlContext.read.format('csv').load(\"/data/Google-Playstore%s.csv\" % ('.sample' if sample else ''), header='true', infer_schema='true')\n",
    "GoogleNormalizer.normalize(raw_google_df).createOrReplaceTempView(\"google_apps\")\n",
    "\n",
    "categories = ['Game', 'Music', 'Health']\n"
   ]
  },
  {
   "cell_type": "code",
   "execution_count": 2,
   "id": "1258bd12-ddd3-4a34-a6d4-dd1b9120f2d4",
   "metadata": {
    "tags": []
   },
   "outputs": [
    {
     "data": {
      "text/plain": [
       "<matplotlib.legend.Legend at 0xffff7c1b6ad0>"
      ]
     },
     "execution_count": 2,
     "metadata": {},
     "output_type": "execute_result"
    },
    {
     "data": {
      "image/png": "[encoded data removed]",
      "text/plain": [
       "<Figure size 640x480 with 1 Axes>"
      ]
     },
     "metadata": {},
     "output_type": "display_data"
    }
   ],
   "source": [
    "# Draw histo for size by category\n",
    "\n",
    "size_and_categories_df = sqlContext.sql(\"select normalized_size as size, normalized_category as category from google_apps\") \\\n",
    "  .union(sqlContext.sql(\"select normalized_size as size, normalized_category as category from apple_apps\"))\n",
    "\n",
    "size_and_categories_df.createOrReplaceTempView(\"size_and_categories\")\n",
    "\n",
    "size_and_cat_histo = sqlContext.sql(\"select size, category from size_and_categories where category is not null and size is not null\")\n",
    "\n",
    "pyplot.hist([\n",
    "    [r['size'] for r in size_and_cat_histo.filter(col('category') == cat).select('size').collect()] for cat in categories\n",
    "], 30, label=categories, log=True)\n",
    "pyplot.legend()\n",
    "\n",
    "# end: Draw histo"
   ]
  },
  {
   "cell_type": "code",
   "execution_count": 3,
   "id": "cf859bc4-5644-4cc8-a0f2-5df23eda71d3",
   "metadata": {
    "tags": []
   },
   "outputs": [
    {
     "name": "stdout",
     "output_type": "stream",
     "text": [
      "+--------+------------------------------------------------------+\n",
      "|category|(sum((avg_rating * rating_count)) / sum(rating_count))|\n",
      "+--------+------------------------------------------------------+\n",
      "|    null|                                      4.41074540767641|\n",
      "|  Health|                                    3.8815187752025277|\n",
      "|   Music|                                    4.7130506274216515|\n",
      "|    Game|                                     4.324328792824674|\n",
      "+--------+------------------------------------------------------+\n",
      "\n"
     ]
    }
   ],
   "source": [
    "# Rating average\n",
    "\n",
    "reviews_df = sqlContext.sql(\"select avg_rating, rating_count, normalized_category as category from google_apps\") \\\n",
    "  .union(sqlContext.sql(\"select avg_rating, rating_count, normalized_category as category from apple_apps\"))\n",
    "reviews_df.createOrReplaceTempView('reviews')\n",
    "\n",
    "sqlContext.sql(\"select category, sum(avg_rating * rating_count)/sum(rating_count) from reviews group by category\").show()\n",
    "\n",
    "# end: Rating average"
   ]
  },
  {
   "cell_type": "code",
   "execution_count": 4,
   "id": "07dedd4f-e8a3-4598-a193-a7cbe9123e42",
   "metadata": {
    "tags": []
   },
   "outputs": [
    {
     "data": {
      "text/plain": [
       "<matplotlib.legend.Legend at 0xffff6d01a050>"
      ]
     },
     "execution_count": 4,
     "metadata": {},
     "output_type": "execute_result"
    },
    {
     "data": {
      "image/png": "[encoded data removed]",
      "text/plain": [
       "<Figure size 640x480 with 1 Axes>"
      ]
     },
     "metadata": {},
     "output_type": "display_data"
    }
   ],
   "source": [
    "# New releases by month\n",
    "\n",
    "released_df = sqlContext.sql(\"select normalized_category as category, Released from google_apps\") \\\n",
    "  .union(sqlContext.sql(\"select normalized_category as category, Released from apple_apps\"))\n",
    "released_df.createOrReplaceTempView('released')\n",
    "\n",
    "released_by_category_df = sqlContext.sql(\"select category, MONTH(Released) as month from released where category is not null and Released is not null\")\n",
    "\n",
    "pyplot.hist([\n",
    "    [r['month'] for r in released_by_category_df.filter(col('category') == cat).select('month').collect()] for cat in categories\n",
    "], 12, label=categories)\n",
    "pyplot.legend()\n",
    "\n",
    "# end: New releases by month"
   ]
  },
  {
   "cell_type": "code",
   "execution_count": 5,
   "id": "01d5e82c-e269-46de-ac13-d3d548d28ee2",
   "metadata": {
    "tags": []
   },
   "outputs": [
    {
     "name": "stdout",
     "output_type": "stream",
     "text": [
      "+--------+----+----------+---------------------------------+\n",
      "|category|year|      size|                         App_Name|\n",
      "+--------+----+----------+---------------------------------+\n",
      "|    Game|2010|1956236288|                  Smurfs' Village|\n",
      "|    Game|2010|  10951680|                             Trex|\n",
      "|    Game|2012| 149217280|             Trucks JigSaw Puz...|\n",
      "|    Game|2012|  71523328|             Chicken Invaders ...|\n",
      "|    Game|2012|  54022144|                     Tap To Death|\n",
      "|    Game|2013|  58639360|                        Hard Time|\n",
      "|    Game|2013|  49485824|             Tank Island 3D - ...|\n",
      "|    Game|2013|  14888960|             Guess word from 4...|\n",
      "|    Game|2014| 508649472|             Frontline: Road t...|\n",
      "|    Game|2014| 184221696|             Elephant Simulato...|\n",
      "|    Game|2014| 117760000|                          FoxRunn|\n",
      "|    Game|2014|  90632192|             American fire tru...|\n",
      "|    Game|2014|  89284608|             New York Mad Taxi...|\n",
      "|    Game|2014|  44938240|               Super Girl Amazing|\n",
      "|    Game|2014|  38857715|             Soccer Cup Solitaire|\n",
      "|    Game|2014|  26098290|             GeoExpert - Canad...|\n",
      "|    Game|2014|  14528512|                   Dentist Doctor|\n",
      "|    Game|2014|  10814464|             Stupid Birds – Av...|\n",
      "|    Game|2015| 861065216|             Delicious - Hopes...|\n",
      "|    Game|2015| 374862848|                      WitchSpring|\n",
      "|    Game|2015| 139287552|             Superheros 2 Free...|\n",
      "|    Game|2015|  83654656|             Color Craze Amazi...|\n",
      "|    Game|2015|  66238464|                        EVERYTOWN|\n",
      "|    Game|2015|  57617408|                        Kelimekle|\n",
      "|    Game|2015|  56415232|                    Wall Bouncing|\n",
      "|    Game|2015|  54457344|                       Worm Whack|\n",
      "|    Game|2015|  49651712|             Pinna - Unicycle ...|\n",
      "|    Game|2015|  24064000|             Etupirka - puffin...|\n",
      "|    Game|2016| 240771072|             Bank Robbery Real...|\n",
      "|    Game|2016| 132441088|             Arctic Snowmobile...|\n",
      "|    Game|2016| 112878592|                    Maria's Chess|\n",
      "|    Game|2016| 101980160|             Final Escape - Op...|\n",
      "|    Game|2016| 101101568|                       Otter Polo|\n",
      "|    Game|2016|  93254656|             Stickman Turbo Ca...|\n",
      "|    Game|2016|  78275584|             Top Bike: Racing ...|\n",
      "|    Game|2016|  77649920|             Swipe To Run - Do...|\n",
      "|    Game|2016|  74138624|                      Slash Arrow|\n",
      "|    Game|2016|  67266560|             Escape Master - H...|\n",
      "|    Game|2017| 505907200|               DIG THAT TREASURE!|\n",
      "|    Game|2017| 324234240|             Sniper: Ghost War...|\n",
      "|    Game|2017| 248308736|                  Stickman Surfer|\n",
      "|    Game|2017| 221521920|             Flying Monster Tr...|\n",
      "|    Game|2017| 197941248|             Bridge Constructo...|\n",
      "|    Game|2017| 172680192|             Ball Breaker - Fl...|\n",
      "|    Game|2017| 141813760|               Car Parking Master|\n",
      "|    Game|2017| 138505216|             Maestro de las Pa...|\n",
      "|    Game|2017| 126141440|                   Keno Four Card|\n",
      "|    Game|2017| 109661184|             Texas Trivia with...|\n",
      "|    Game|2018| 432892928|             Maggie - Treasure...|\n",
      "|    Game|2018| 376177664|                    DeadsXstanbul|\n",
      "|    Game|2018| 199163904|             War In The Dead City|\n",
      "|    Game|2018| 139973632|             City Race Simulat...|\n",
      "|    Game|2018| 116523008|                          Slagman|\n",
      "|    Game|2018|  92755968|             Questions pour un...|\n",
      "|    Game|2018|  75577344|滑雪大冒险 - 天天极品酷跑赛车游戏|\n",
      "|    Game|2018|  51103744|             Ancient Egypt: pu...|\n",
      "|    Game|2018|  41680896|             Baby Princess Caring|\n",
      "|    Game|2018|  41390080|                          Narwhal|\n",
      "|    Game|2019| 850342912|             She and The Light...|\n",
      "|    Game|2019| 324363264|                 MW : FPS Shooter|\n",
      "|    Game|2019| 315214848|             Mech Tactics: Fus...|\n",
      "|    Game|2019| 286954496|             Pancake Milkshake...|\n",
      "|    Game|2019| 271890432|             Word Swipe Connec...|\n",
      "|    Game|2019| 251920384|             Home Design : Car...|\n",
      "|    Game|2019| 248613888|             Fishing King :The...|\n",
      "|    Game|2019| 247485440|                      DreamFlying|\n",
      "|    Game|2019| 155925504|                      Draw Line!!|\n",
      "|    Game|2019| 114442240|                      Bop The Dot|\n",
      "|    Game|2020| 700525568|                    Helihunter AR|\n",
      "|    Game|2020| 381948928|             Stick Gunner: Sti...|\n",
      "|    Game|2020| 379350016|             Dragon Clash - Me...|\n",
      "|    Game|2020| 365312000|             Color Gallery: Gr...|\n",
      "|    Game|2020| 351551488|             Stupid Zombies Ex...|\n",
      "|    Game|2020| 241259520|                      Vacuum Run!|\n",
      "|    Game|2020| 206269440|                    Cat's Dreams!|\n",
      "|    Game|2020| 205335552|              Spiny BalloonPopper|\n",
      "|    Game|2020| 202992640|             Block Puzzle - Ji...|\n",
      "|    Game|2020| 201826304|                  Catch And Shoot|\n",
      "|    Game|2021|1039405056|                    Game of Khans|\n",
      "|    Game|2021| 402833408|                           C.A.N.|\n",
      "|    Game|2021| 289774592|                  Air Force Pilot|\n",
      "|    Game|2021| 283455488|                Merge Machine 3D!|\n",
      "|    Game|2021| 232141824|             Boxing Star Fight...|\n",
      "|    Game|2021| 196848640|                         Control!|\n",
      "|    Game|2021| 181565440|             High School Bad B...|\n",
      "|    Game|2021| 135585792|                  Recycle It Game|\n",
      "|    Game|2021| 118067200|                     FPS Defender|\n",
      "|    Game|2021| 100259840|                      Don't Crush|\n",
      "|  Health|2011|  37652480|             Meditations of Al...|\n",
      "|  Health|2012|  54304768|                Evergreen Pilates|\n",
      "|  Health|2013|  31569920|                       MilerMeter|\n",
      "|  Health|2014| 136022016|             Virtual Gastric Band|\n",
      "|  Health|2017| 553431040|                  Thuốc Biệt Dược|\n",
      "|  Health|2017|  95816704|                          Exsed 2|\n",
      "|  Health|2017|  58118144|             Therapy Social Fi...|\n",
      "|  Health|2017|  54486016|                  TRAQ by Alegria|\n",
      "|  Health|2017|  42117120|                    WATT für Dich|\n",
      "|  Health|2017|   9046016|                       Team ZWATT|\n",
      "|  Health|2018|  20791296|                      Arthro 2018|\n",
      "|  Health|2019| 144709632|                      Variant Fit|\n",
      "+--------+----+----------+---------------------------------+\n",
      "only showing top 100 rows\n",
      "\n"
     ]
    }
   ],
   "source": [
    "# Top ten by size by category and year\n",
    "\n",
    "released_by_size_df = sqlContext.sql(\"select App_Name, normalized_category as category, normalized_size as size, YEAR(Released) as year from google_apps\") \\\n",
    "  .union(sqlContext.sql(\"select App_Name, normalized_category as category, normalized_size as size, YEAR(Released) as year from apple_apps\"))\n",
    "released_by_size_df.createOrReplaceTempView('released_by_size')\n",
    "\n",
    "sqlContext.sql(\"\"\"SELECT category, year, size, App_Name FROM \n",
    "   (SELECT App_Name, category, year as year, size, dense_rank() \n",
    "         OVER (PARTITION BY category, year ORDER BY size DESC) as rank \n",
    "    FROM released_by_size where category is not null and year is not null) tmp  \n",
    "WHERE rank <= 10 order by 1, 2\"\"\").show(100)\n",
    "\n",
    "# end: # Top ten by size by category and year"
   ]
  }
 ],
 "metadata": {
  "kernelspec": {
   "display_name": "Python 3 (ipykernel)",
   "language": "python",
   "name": "python3"
  },
  "language_info": {
   "codemirror_mode": {
    "name": "ipython",
    "version": 3
   },
   "file_extension": ".py",
   "mimetype": "text/x-python",
   "name": "python",
   "nbconvert_exporter": "python",
   "pygments_lexer": "ipython3",
   "version": "3.10.11"
  }
 },
 "nbformat": 4,
 "nbformat_minor": 5
}
